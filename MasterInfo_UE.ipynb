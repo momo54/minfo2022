{
  "nbformat": 4,
  "nbformat_minor": 0,
  "metadata": {
    "colab": {
      "provenance": [],
      "collapsed_sections": [],
      "mount_file_id": "1Bt_MxRCkdtwuXWqWhcD4ZiUoAtZCMrMh",
      "authorship_tag": "ABX9TyM9rfR21SV3EOSiQalHu2+w",
      "include_colab_link": true
    },
    "kernelspec": {
      "name": "python3",
      "display_name": "Python 3"
    },
    "language_info": {
      "name": "python"
    }
  },
  "cells": [
    {
      "cell_type": "markdown",
      "metadata": {
        "id": "view-in-github",
        "colab_type": "text"
      },
      "source": [
        "<a href=\"https://colab.research.google.com/github/momo54/minfo2022/blob/main/MasterInfo_UE.ipynb\" target=\"_parent\"><img src=\"https://colab.research.google.com/assets/colab-badge.svg\" alt=\"Open In Colab\"/></a>"
      ]
    },
    {
      "cell_type": "markdown",
      "source": [
        "# grrr\n",
        "\n",
        "Bon...\n",
        "L'extraction excel de pdf ne peut être miraculeux..\n",
        "\n",
        "Quand un tableau est à cheval sur plusieurs page, le tableau est mal reconstitué...\n",
        "\n",
        "Il faut avoir les tableaux d'origine !!\n",
        "\n",
        "Donc un read-Excel ne pourra donner de bons résultats..."
      ],
      "metadata": {
        "id": "u_uTQ8QIW25U"
      }
    },
    {
      "cell_type": "code",
      "source": [
        "!pip install pyspark\n",
        "!pip install -q findspark\n",
        "import findspark\n",
        "findspark.init()\n",
        "from pyspark.sql import SparkSession\n",
        "spark = SparkSession.builder\\\n",
        "        .master(\"local\")\\\n",
        "        .appName(\"Colab\")\\\n",
        "        .config('spark.ui.port', '4050')\\\n",
        "        .getOrCreate()"
      ],
      "metadata": {
        "colab": {
          "base_uri": "https://localhost:8080/"
        },
        "id": "FKiK-QlRx5_q",
        "outputId": "622f13f2-1d5a-4f40-9a3f-7b4b1bc57464"
      },
      "execution_count": 3,
      "outputs": [
        {
          "output_type": "stream",
          "name": "stdout",
          "text": [
            "Looking in indexes: https://pypi.org/simple, https://us-python.pkg.dev/colab-wheels/public/simple/\n",
            "Collecting pyspark\n",
            "  Downloading pyspark-3.3.1.tar.gz (281.4 MB)\n",
            "\u001b[K     |████████████████████████████████| 281.4 MB 42 kB/s \n",
            "\u001b[?25hCollecting py4j==0.10.9.5\n",
            "  Downloading py4j-0.10.9.5-py2.py3-none-any.whl (199 kB)\n",
            "\u001b[K     |████████████████████████████████| 199 kB 40.9 MB/s \n",
            "\u001b[?25hBuilding wheels for collected packages: pyspark\n",
            "  Building wheel for pyspark (setup.py) ... \u001b[?25l\u001b[?25hdone\n",
            "  Created wheel for pyspark: filename=pyspark-3.3.1-py2.py3-none-any.whl size=281845513 sha256=bbad5b508a41fe42c14fa6884371f1517d3e9b29687eb5b56ec55fd09a4e60e6\n",
            "  Stored in directory: /root/.cache/pip/wheels/42/59/f5/79a5bf931714dcd201b26025347785f087370a10a3329a899c\n",
            "Successfully built pyspark\n",
            "Installing collected packages: py4j, pyspark\n",
            "Successfully installed py4j-0.10.9.5 pyspark-3.3.1\n"
          ]
        }
      ]
    },
    {
      "cell_type": "code",
      "source": [
        "##\n",
        "## Autre Approche\n",
        "## Même si 1 sheet != 1 UE\n",
        "## l'odre est préservé\n",
        "## regexp extraction en suivant l'ordre...\n",
        "\n",
        "my_csv=r'/content/drive/MyDrive/MasterInfo2022/converted/M1_Architecture_Logicielle_(ALMA)_2022-2023.xlsx'\n",
        "\n",
        "df=pd.read_excel(my_csv, index_col=None, header=None, sheet_name=\"Table 5\")\n",
        "#Title and code of UE not at the right Place :(\n",
        "# need swapping...\n",
        "#print(df)\n",
        "#print(df.dtypes)\n",
        "mask=df.apply(lambda x: x.str.contains('X1.*|Objectifs|Contenu',regex=True)).any(axis=1)\n",
        "print(df[mask])\n",
        "\n"
      ],
      "metadata": {
        "colab": {
          "base_uri": "https://localhost:8080/"
        },
        "id": "jWbt4awLaMxm",
        "outputId": "dc730a83-62bf-4509-ee80-04c1a9f98cb4"
      },
      "execution_count": 130,
      "outputs": [
        {
          "output_type": "stream",
          "name": "stdout",
          "text": [
            "                                        0  \\\n",
            "1                                 X1II010   \n",
            "14  Objectifs (résultats d'apprentissage)   \n",
            "15                                Contenu   \n",
            "19                                X1II030   \n",
            "32  Objectifs (résultats d'apprentissage)   \n",
            "33                                Contenu   \n",
            "\n",
            "                                                    1  \n",
            "1                                             Graphes  \n",
            "14  1. reconnaître et modéliser un problème réel a...  \n",
            "15  •\\nEléments de théorie des graphes\\n•\\nArbres ...  \n",
            "19                          Complexité et algorithmes  \n",
            "32  • Savoir manipuler les notations standards des...  \n",
            "33                                                NaN  \n"
          ]
        }
      ]
    },
    {
      "cell_type": "code",
      "source": [
        "#\n",
        "# DS M2 et Vico M2 n'ont pas les code UE pour les UE...\n",
        "#\n",
        "\n",
        "parcours=[\n",
        "    ('ALMA','M1','/content/drive/MyDrive/MasterInfo2022/converted/M1_Architecture_Logicielle_(ALMA)_2022-2023.xlsx'),\n",
        "    ('ALMA','M2','/content/drive/MyDrive/MasterInfo2022/converted/M2_Architectures_Logicielles_(ALMA)_2022-2023.xlsx'),\n",
        "    ('ATAL','M1','/content/drive/MyDrive/MasterInfo2022/converted/M1_Apprentissage_et_Traitement_Automatique_de_la_Langue_(ATAL)_2022-2023 (2).xlsx'),\n",
        "    ('ATAL','M2','/content/drive/MyDrive/MasterInfo2022/converted/M2_Apprentissage_et_Traitement_Automatique_de_la_Langue_(ATAL)_2022-2023.xlsx'),\n",
        "    ('ORO','M1','/content/drive/MyDrive/MasterInfo2022/converted/M1_Optimisation_en_Recherche_Operationnelle_(ORO)_2022-2023.xlsx'),\n",
        "    ('ORO','M2','/content/drive/MyDrive/MasterInfo2022/converted/M2_Optimisation_en_Recherche_Operationnelle_(ORO)_2022-2023.xlsx'),\n",
        "    ('DS','M1','/content/drive/MyDrive/MasterInfo2022/converted/M1_Data_Science_(DS)_2022-2023.xlsx'),\n",
        "    ('DS','M2','/content/drive/MyDrive/MasterInfo2022/converted/M2_Data_Science_(DS)_2022-2023.xlsx'),\n",
        "    ('VICO','M1','/content/drive/MyDrive/MasterInfo2022/converted/M1_Visual_Computing_(VICO)_2022-2023.xlsx'),\n",
        "    ('VICO','M2','/content/drive/MyDrive/MasterInfo2022/converted/M2_Visual_Computing_(VICO).xlsx'),\n",
        "]\n",
        "\n",
        "def extract_ue(parcours,an,path):\n",
        "  print(f\"extracting ues for {parcours}, annee:{an}, path:{path}\")\n",
        "  dfs=[]\n",
        "#  my_csv=r'/content/drive/MyDrive/MasterInfo2022/converted/M1_Architecture_Logicielle_(ALMA)_2022-2023.xlsx'\n",
        "\n",
        "  for sheet_name, df in pd.read_excel(path, index_col=None, header=None, sheet_name=None).items():\n",
        "      sheetid=int(sheet_name.split(\" \")[1])\n",
        "      if sheetid>4:\n",
        "        print(sheet_name)\n",
        "        dfs.append(df)\n",
        "  allUE=pd.concat(dfs).reset_index(drop=True)\n",
        "\n",
        "  mask=allUE.apply(lambda x: x.str.contains('^X[1-4].*|^YG.*|Object|Contenu',regex=True)).any(axis=1)\n",
        "  UES=allUE[mask]\n",
        "\n",
        "  print(UES.columns.values)\n",
        "  print(UES)\n",
        "  if len(UES.columns.values)==2:\n",
        "    UES.set_axis(['X','Y'],axis=1,inplace=True)\n",
        "  else:\n",
        "    UES.set_axis(['X','Y','Z'],axis=1,inplace=True)\n",
        "    \n",
        "\n",
        "  #print(UES.columns.values)\n",
        "  #print(UES)\n",
        "  for index, row in UES.iterrows():\n",
        "    print(f\"extracting:{row['X']}\")\n",
        "\n",
        "  state=0\n",
        "  key=\"\"\n",
        "  title=\"\"\n",
        "  objective=\"\"\n",
        "  content=\"\"\n",
        "  lines=[]\n",
        "\n",
        "  import re\n",
        "  reg=re.compile(\"^X[1-4].*|^YG.*\")\n",
        "\n",
        "  for index, row in UES.iterrows():\n",
        "    #print(f\"extracting:{row['X']}\")\n",
        "    #print(row['X'],row['Y']\n",
        "    if state==0:\n",
        "      if reg.match(str(row['X'])) is not None:\n",
        "        key=row['X']\n",
        "        title=row['Y']\n",
        "        state=1\n",
        "      else:\n",
        "        print(f\"error: should read an UE key:{row['X']}\")\n",
        "        state=0\n",
        "    elif state==1:\n",
        "      if str(row['X']).startswith(\"Object\"):\n",
        "        objective=row['Y']\n",
        "        state=2\n",
        "      else:\n",
        "        print(f\"error: should read an Objective:{row['X']}\")\n",
        "        state=0\n",
        "    elif state==2:\n",
        "      if str(row['X']).startswith(\"Contenu\"):\n",
        "        content=row['Y']\n",
        "        lines.append({'key' : key, 'title':title,'objective':objective,'content':content})\n",
        "        state=0\n",
        "      else:\n",
        "        print(f\"error: should read an Content:{row['X']}\")\n",
        "        state=0\n",
        "        \n",
        "  out=pd.DataFrame(lines)\n",
        "  out.to_csv(f\"{parcours}_{an}_UEs.csv\",index=False,header=True)\n",
        "\n",
        "for p,a,path in parcours:\n",
        "  extract_ue(p,a,path)"
      ],
      "metadata": {
        "colab": {
          "base_uri": "https://localhost:8080/"
        },
        "id": "td3fbY_Geal1",
        "outputId": "ae0d2247-33e5-4d8e-83d5-043759cbc361"
      },
      "execution_count": 198,
      "outputs": [
        {
          "output_type": "stream",
          "name": "stdout",
          "text": [
            "extracting ues for VICO, annee:M2, path:/content/drive/MyDrive/MasterInfo2022/converted/M2_Visual_Computing_(VICO).xlsx\n",
            "Table 5\n",
            "Table 6\n",
            "Table 7\n",
            "Table 8\n",
            "Table 9\n",
            "Table 10\n",
            "[0 1]\n",
            "                                         0  \\\n",
            "14   Objectifs (résultats d'apprentissage)   \n",
            "15                                 Contenu   \n",
            "19                                 YG9U17-   \n",
            "32   Objectifs (résultats d'apprentissage)   \n",
            "33                                 Contenu   \n",
            "37                                 YG9U15-   \n",
            "50   Objectifs (résultats d'apprentissage)   \n",
            "51                                 Contenu   \n",
            "68   Objectifs (résultats d'apprentissage)   \n",
            "69                                 Contenu   \n",
            "86   Objectifs (résultats d'apprentissage)   \n",
            "87                                 Contenu   \n",
            "104  Objectifs (résultats d'apprentissage)   \n",
            "105                                Contenu   \n",
            "122  Objectifs (résultats d'apprentissage)   \n",
            "123                                Contenu   \n",
            "140  Objectifs (résultats d'apprentissage)   \n",
            "141                                Contenu   \n",
            "\n",
            "                                                     1  \n",
            "14   At the end of this course, the students will b...  \n",
            "15   Discrete geometry topics :\\n• Discrete topolog...  \n",
            "19                                Perceptual computing  \n",
            "32   At the end of this course, the student will be...  \n",
            "33   1. Visual perception: physiology and theories\\...  \n",
            "37                Machine learning for computer vision  \n",
            "50   At the end of this course, the student will be...  \n",
            "51   • Data preprocessing (normalization), Feature ...  \n",
            "68   At the end of this course, the student must kn...  \n",
            "69   1.   Realtime 3D general concepts\\n2.   3D Per...  \n",
            "86   Multimedia communications require a careful de...  \n",
            "87   Cryptography:\\n• Pseudo-chaotic number generat...  \n",
            "104  At the end of this course, the student will be...  \n",
            "105  1- Human Computer Interaction: from interventi...  \n",
            "122  Upon completing the course in French as a fore...  \n",
            "123  Grammar\\n• tenses : présent, futur proche, pas...  \n",
            "140  At the end of the intership, the student shoul...  \n",
            "141  During the internship, the student will conduc...  \n",
            "extracting:Objectifs (résultats d'apprentissage)\n",
            "extracting:Contenu\n",
            "extracting:YG9U17-\n",
            "extracting:Objectifs (résultats d'apprentissage)\n",
            "extracting:Contenu\n",
            "extracting:YG9U15-\n",
            "extracting:Objectifs (résultats d'apprentissage)\n",
            "extracting:Contenu\n",
            "extracting:Objectifs (résultats d'apprentissage)\n",
            "extracting:Contenu\n",
            "extracting:Objectifs (résultats d'apprentissage)\n",
            "extracting:Contenu\n",
            "extracting:Objectifs (résultats d'apprentissage)\n",
            "extracting:Contenu\n",
            "extracting:Objectifs (résultats d'apprentissage)\n",
            "extracting:Contenu\n",
            "extracting:Objectifs (résultats d'apprentissage)\n",
            "extracting:Contenu\n",
            "error: should read an UE key:Objectifs (résultats d'apprentissage)\n",
            "error: should read an UE key:Contenu\n",
            "error: should read an UE key:Objectifs (résultats d'apprentissage)\n",
            "error: should read an UE key:Contenu\n",
            "error: should read an UE key:Objectifs (résultats d'apprentissage)\n",
            "error: should read an UE key:Contenu\n",
            "error: should read an UE key:Objectifs (résultats d'apprentissage)\n",
            "error: should read an UE key:Contenu\n",
            "error: should read an UE key:Objectifs (résultats d'apprentissage)\n",
            "error: should read an UE key:Contenu\n",
            "error: should read an UE key:Objectifs (résultats d'apprentissage)\n",
            "error: should read an UE key:Contenu\n"
          ]
        }
      ]
    },
    {
      "cell_type": "code",
      "execution_count": null,
      "metadata": {
        "id": "OeUBVIbAsa_Y"
      },
      "outputs": [],
      "source": [
        "##\n",
        "## MArche pas... 1 sheet != UE\n",
        "\n",
        "from re import VERBOSE\n",
        "import pandas as pd\n",
        "\n",
        "!rm ALMA_M1*\n",
        "\n",
        "result=pd.DataFrame()\n",
        "\n",
        "my_csv=r'/content/drive/MyDrive/MasterInfo2022/converted/M1_Architecture_Logicielle_(ALMA)_2022-2023.xlsx'\n",
        "for sheet_name, df in pd.read_excel(my_csv, index_col=0, header=None, sheet_name=None).items():\n",
        "    sheetid=int(sheet_name.split(\" \")[1])\n",
        "    if sheetid>4:\n",
        "      print(sheet_name)\n",
        "      df=df.transpose()\n",
        "      df.iat[0,0]=df.columns.values[1]\n",
        "      df.columns.values[1]=\"Titre\"\n",
        "      df.to_csv(f'ALMA_M1_{sheetid}.csv', index=False, encoding='utf-8')\n",
        "\n",
        "#sheet.info(verbose=True)\n",
        "# Not the same fields in all sheets :(\n",
        "# result=pd.concat([result,sheet]).reset_index(drop=True)\n",
        "result"
      ]
    },
    {
      "cell_type": "markdown",
      "source": [],
      "metadata": {
        "id": "h9vTcsPfW1px"
      }
    }
  ]
}